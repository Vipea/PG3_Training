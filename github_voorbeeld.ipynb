{
 "cells": [
  {
   "cell_type": "code",
   "execution_count": 1,
   "id": "ed8f6316",
   "metadata": {},
   "outputs": [
    {
     "name": "stdout",
     "output_type": "stream",
     "text": [
      "100\n",
      "210\n"
     ]
    }
   ],
   "source": [
    "lijstje = [1, 100, 210, 515, 647]\n",
    "\n",
    "for nummer in lijstje:\n",
    "    if nummer % 2 == 0:\n",
    "        print(nummer)"
   ]
  },
  {
   "cell_type": "code",
   "execution_count": 2,
   "id": "6ac48fbf",
   "metadata": {},
   "outputs": [],
   "source": [
    "a = 10\n",
    "if a < 5:\n",
    "    print(\"hoi\")"
   ]
  },
  {
   "cell_type": "code",
   "execution_count": null,
   "id": "3c097a10",
   "metadata": {},
   "outputs": [],
   "source": [
    "def check_string(strr):\n",
    "    if len(strr) > 10:\n",
    "        return string"
   ]
  }
 ],
 "metadata": {
  "kernelspec": {
   "display_name": "Python 3 (ipykernel)",
   "language": "python",
   "name": "python3"
  },
  "language_info": {
   "codemirror_mode": {
    "name": "ipython",
    "version": 3
   },
   "file_extension": ".py",
   "mimetype": "text/x-python",
   "name": "python",
   "nbconvert_exporter": "python",
   "pygments_lexer": "ipython3",
   "version": "3.9.7"
  }
 },
 "nbformat": 4,
 "nbformat_minor": 5
}
